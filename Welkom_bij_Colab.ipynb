{
  "cells": [
    {
      "cell_type": "markdown",
      "metadata": {
        "id": "view-in-github",
        "colab_type": "text"
      },
      "source": [
        "<a href=\"https://colab.research.google.com/github/MikavKempen/1bm170/blob/main/Welkom_bij_Colab.ipynb\" target=\"_parent\"><img src=\"https://colab.research.google.com/assets/colab-badge.svg\" alt=\"Open In Colab\"/></a>"
      ]
    },
    {
      "cell_type": "code",
      "source": [
        "!pip install cython"
      ],
      "metadata": {
        "id": "cMGtMiqAuXhR",
        "outputId": "5f2851c9-b6bf-452b-f4d4-93407ce0aed5",
        "colab": {
          "base_uri": "https://localhost:8080/"
        }
      },
      "execution_count": 1,
      "outputs": [
        {
          "output_type": "stream",
          "name": "stdout",
          "text": [
            "Requirement already satisfied: cython in /usr/local/lib/python3.11/dist-packages (3.0.12)\n"
          ]
        }
      ]
    },
    {
      "cell_type": "code",
      "source": [
        "# Compile the Cython file\n",
        "!cythonize -i evaluations.pyx"
      ],
      "metadata": {
        "id": "loONPJpVvMs0",
        "outputId": "3f13e06c-3d3e-4290-8a06-cde9d9e30e00",
        "colab": {
          "base_uri": "https://localhost:8080/"
        }
      },
      "execution_count": 2,
      "outputs": [
        {
          "output_type": "stream",
          "name": "stdout",
          "text": [
            "Compiling /content/evaluations.pyx because it changed.\n",
            "[1/1] Cythonizing /content/evaluations.pyx\n",
            "/usr/local/lib/python3.11/dist-packages/Cython/Compiler/Main.py:381: FutureWarning: Cython directive 'language_level' not set, using '3str' for now (Py3). This has changed from earlier releases! File: /content/evaluations.pyx\n",
            "  tree = Parsing.p_module(s, pxd, full_module_name)\n"
          ]
        }
      ]
    },
    {
      "cell_type": "code",
      "source": [
        "import evaluations"
      ],
      "metadata": {
        "id": "ou0vFzLOvR1L"
      },
      "execution_count": 3,
      "outputs": []
    },
    {
      "cell_type": "code",
      "source": [
        "import os\n",
        "\n",
        "# Show available instance files\n",
        "instance_dir = '.'\n",
        "instance_files = [f for f in os.listdir(instance_dir) if f.endswith('.txt')]\n",
        "print(\"Available instances:\", instance_files)"
      ],
      "metadata": {
        "id": "XqYM3Wj-vVUr",
        "outputId": "3507b2c6-48c4-434b-8a08-f716b358d254",
        "colab": {
          "base_uri": "https://localhost:8080/"
        }
      },
      "execution_count": 4,
      "outputs": [
        {
          "output_type": "stream",
          "name": "stdout",
          "text": [
            "Available instances: ['VFR20_20_7_Gap.txt', 'VFR700_20_7_Gap.txt', 'VFR50_5_2_Gap.txt', 'VFR30_5_2_Gap.txt', 'VFR40_20_1_Gap.txt', 'VFR10_20_2_Gap.txt', 'VFR700_20_4_Gap.txt', 'VFR20_5_2_Gap.txt', 'VFR40_15_6_Gap.txt', 'VFR50_5_1_Gap.txt', 'VFR30_20_1_Gap.txt', 'VFR40_15_3_Gap.txt', 'VFR60_5_5_Gap.txt', 'VFR60_15_9_Gap.txt', 'VFR10_5_9_Gap.txt', 'VFR40_20_7_Gap.txt', 'VFR800_40_6_Gap.txt', 'VFR10_10_9_Gap.txt', 'VFR300_40_4_Gap.txt', 'VFR50_5_4_Gap.txt', 'VFR20_5_10_Gap.txt', 'VFR10_5_3_Gap.txt', 'VFR100_60_1_Gap.txt', 'VFR50_15_3_Gap.txt', 'VFR500_60_10_Gap.txt', 'VFR700_40_4_Gap.txt', 'VFR300_60_1_Gap.txt', 'VFR100_60_5_Gap.txt', 'VFR300_20_2_Gap.txt', 'VFR800_20_1_Gap.txt', 'VFR60_5_3_Gap.txt', 'VFR300_40_7_Gap.txt', 'VFR10_10_7_Gap.txt', 'VFR20_5_6_Gap.txt', 'VFR600_60_7_Gap.txt', 'VFR10_10_1_Gap.txt', 'VFR300_40_1_Gap.txt', 'VFR100_20_3_Gap.txt', 'VFR300_20_3_Gap.txt', 'VFR60_10_8_Gap.txt', 'VFR60_10_7_Gap.txt', 'VFR100_60_4_Gap.txt', 'VFR20_10_1_Gap.txt', 'VFR50_15_4_Gap.txt', 'VFR400_40_8_Gap.txt', 'VFR60_20_5_Gap.txt', 'VFR200_20_3_Gap.txt', 'VFR800_60_10_Gap.txt', 'VFR50_10_3_Gap.txt', 'VFR20_15_8_Gap.txt', 'VFR800_20_6_Gap.txt', 'VFR30_15_9_Gap.txt', 'VFR30_15_1_Gap.txt', 'VFR500_20_6_Gap.txt', 'VFR100_20_5_Gap.txt', 'VFR60_15_8_Gap.txt', 'VFR20_20_8_Gap.txt', 'VFR60_10_3_Gap.txt', 'VFR500_20_2_Gap.txt', 'VFR60_10_6_Gap.txt', 'VFR50_15_2_Gap.txt', 'VFR800_40_2_Gap.txt', 'VFR700_40_8_Gap.txt', 'VFR500_40_3_Gap.txt', 'VFR800_40_3_Gap.txt', 'VFR30_15_6_Gap.txt', 'VFR100_40_2_Gap.txt', 'VFR100_60_2_Gap.txt', 'VFR20_20_3_Gap.txt', 'VFR60_5_9_Gap.txt', 'VFR50_20_3_Gap.txt', 'VFR50_10_9_Gap.txt', 'VFR40_15_4_Gap.txt', 'VFR600_20_3_Gap.txt', 'VFR500_60_4_Gap.txt', 'VFR500_20_8_Gap.txt', 'VFR20_20_10_Gap.txt', 'VFR200_20_10_Gap.txt', 'VFR40_10_5_Gap.txt', 'VFR40_10_9_Gap.txt', 'VFR200_20_5_Gap.txt', 'VFR500_20_1_Gap.txt', 'VFR50_5_10_Gap.txt', 'VFR20_10_8_Gap.txt', 'VFR400_40_1_Gap.txt', 'VFR40_20_5_Gap.txt', 'VFR600_60_9_Gap.txt', 'VFR400_60_4_Gap.txt', 'VFR30_20_5_Gap.txt', 'VFR800_20_4_Gap.txt', 'VFR800_40_8_Gap.txt', 'VFR400_40_10_Gap.txt', 'VFR60_20_7_Gap.txt', 'VFR20_15_2_Gap.txt', 'VFR20_10_4_Gap.txt', 'VFR20_15_10_Gap.txt', 'VFR200_60_6_Gap.txt', 'VFR40_20_3_Gap.txt', 'VFR100_40_3_Gap.txt', 'VFR500_20_7_Gap.txt', 'VFR50_5_7_Gap.txt', 'VFR600_40_7_Gap.txt', 'VFR800_40_5_Gap.txt', 'VFR600_60_4_Gap.txt', 'VFR300_40_6_Gap.txt', 'VFR700_20_8_Gap.txt', 'VFR30_5_6_Gap.txt', 'VFR20_20_5_Gap.txt', 'VFR10_5_7_Gap.txt', 'VFR30_10_8_Gap.txt', 'VFR600_60_10_Gap.txt', 'VFR100_40_9_Gap.txt', 'VFR40_10_4_Gap.txt', 'VFR700_20_10_Gap.txt', 'VFR50_5_6_Gap.txt', 'VFR200_40_4_Gap.txt', 'VFR600_40_1_Gap.txt', 'VFR600_40_8_Gap.txt', 'VFR30_10_7_Gap.txt', 'VFR400_20_3_Gap.txt', 'VFR600_20_8_Gap.txt', 'VFR800_20_2_Gap.txt', 'VFR10_10_4_Gap.txt', 'VFR800_60_8_Gap.txt', 'VFR20_10_6_Gap.txt', 'VFR200_40_5_Gap.txt', 'VFR200_40_1_Gap.txt', 'VFR60_10_5_Gap.txt', 'VFR50_10_4_Gap.txt', 'VFR500_40_6_Gap.txt', 'VFR60_10_1_Gap.txt', 'VFR20_10_2_Gap.txt', 'VFR20_5_1_Gap.txt', 'VFR10_15_4_Gap.txt', 'VFR20_20_6_Gap.txt', 'VFR300_60_7_Gap.txt', 'VFR700_20_9_Gap.txt', 'VFR10_20_5_Gap.txt', 'VFR400_60_3_Gap.txt', 'VFR10_15_6_Gap.txt', 'VFR200_60_10_Gap.txt', 'VFR40_15_8_Gap.txt', 'VFR800_40_4_Gap.txt', 'VFR200_40_10_Gap.txt', 'VFR400_20_6_Gap.txt', 'VFR200_60_5_Gap.txt', 'VFR60_15_5_Gap.txt', 'VFR10_10_8_Gap.txt', 'VFR20_5_3_Gap.txt', 'VFR20_10_3_Gap.txt', 'VFR40_5_5_Gap.txt', 'VFR800_60_4_Gap.txt', 'VFR30_5_3_Gap.txt', 'VFR40_20_9_Gap.txt', 'VFR40_20_6_Gap.txt', 'VFR700_60_6_Gap.txt', 'VFR300_20_7_Gap.txt', 'VFR50_15_5_Gap.txt', 'VFR50_20_2_Gap.txt', 'VFR500_60_1_Gap.txt', 'VFR20_20_4_Gap.txt', 'VFR40_5_2_Gap.txt', 'VFR30_10_10_Gap.txt', 'VFR60_20_8_Gap.txt', 'VFR10_20_4_Gap.txt', 'VFR800_40_7_Gap.txt', 'VFR30_10_4_Gap.txt', 'VFR300_40_5_Gap.txt', 'VFR700_40_9_Gap.txt', 'VFR30_20_6_Gap.txt', 'VFR10_5_5_Gap.txt', 'VFR20_15_6_Gap.txt', 'VFR40_15_2_Gap.txt', 'VFR50_10_7_Gap.txt', 'VFR60_5_1_Gap.txt', 'VFR400_60_10_Gap.txt', 'VFR400_20_10_Gap.txt', 'VFR400_20_2_Gap.txt', 'VFR500_40_8_Gap.txt', 'VFR100_60_9_Gap.txt', 'VFR10_10_5_Gap.txt', 'VFR100_20_8_Gap.txt', 'VFR600_40_3_Gap.txt', 'VFR30_5_10_Gap.txt', 'VFR20_5_8_Gap.txt', 'VFR30_20_2_Gap.txt', 'VFR700_40_6_Gap.txt', 'VFR10_10_2_Gap.txt', 'VFR400_20_7_Gap.txt', 'VFR10_20_9_Gap.txt', 'VFR50_20_5_Gap.txt', 'VFR500_20_10_Gap.txt', 'VFR50_5_9_Gap.txt', 'VFR30_5_1_Gap.txt', 'VFR200_60_1_Gap.txt', 'VFR10_15_10_Gap.txt', 'VFR300_60_10_Gap.txt', 'VFR400_40_5_Gap.txt', 'VFR800_20_5_Gap.txt', 'VFR40_10_10_Gap.txt', 'VFR200_20_2_Gap.txt', 'VFR10_5_8_Gap.txt', 'VFR600_40_6_Gap.txt', 'VFR10_15_9_Gap.txt', 'VFR30_10_9_Gap.txt', 'VFR60_10_4_Gap.txt', 'VFR50_20_10_Gap.txt', 'VFR200_20_4_Gap.txt', 'VFR300_20_6_Gap.txt', 'VFR500_20_9_Gap.txt', 'VFR50_20_4_Gap.txt', 'VFR300_60_6_Gap.txt', 'VFR30_10_6_Gap.txt', 'VFR10_20_10_Gap.txt', 'VFR10_5_1_Gap.txt', 'VFR30_5_8_Gap.txt', 'VFR100_40_5_Gap.txt', 'VFR40_20_2_Gap.txt', 'VFR600_20_6_Gap.txt', 'VFR600_20_1_Gap.txt', 'VFR40_5_9_Gap.txt', 'VFR600_20_5_Gap.txt', 'VFR700_40_10_Gap.txt', 'VFR200_40_2_Gap.txt', 'VFR10_20_6_Gap.txt', 'VFR400_40_9_Gap.txt', 'VFR40_5_3_Gap.txt', 'VFR60_5_10_Gap.txt', 'VFR60_15_1_Gap.txt', 'VFR60_20_2_Gap.txt', 'VFR600_40_2_Gap.txt', 'VFR20_10_9_Gap.txt', 'VFR500_60_3_Gap.txt', 'VFR300_40_10_Gap.txt', 'VFR100_20_7_Gap.txt', 'VFR60_15_3_Gap.txt', 'VFR20_15_3_Gap.txt', 'VFR700_60_7_Gap.txt', 'VFR800_60_5_Gap.txt', 'VFR10_5_4_Gap.txt', 'VFR20_15_7_Gap.txt', 'VFR40_5_10_Gap.txt', 'VFR200_40_6_Gap.txt', 'VFR600_20_9_Gap.txt', 'VFR10_15_2_Gap.txt', 'VFR30_15_8_Gap.txt', 'VFR400_60_9_Gap.txt', 'VFR20_5_9_Gap.txt', 'VFR60_5_7_Gap.txt', 'VFR50_10_5_Gap.txt', 'VFR60_10_2_Gap.txt', 'VFR20_5_7_Gap.txt', 'VFR300_20_10_Gap.txt', 'VFR700_20_5_Gap.txt', 'VFR600_40_9_Gap.txt', 'VFR100_60_10_Gap.txt', 'VFR60_15_2_Gap.txt', 'VFR500_40_1_Gap.txt', 'VFR800_20_8_Gap.txt', 'VFR200_20_8_Gap.txt', 'VFR200_40_3_Gap.txt', 'VFR100_20_9_Gap.txt', 'VFR700_20_2_Gap.txt', 'VFR800_60_2_Gap.txt', 'VFR400_60_5_Gap.txt', 'VFR700_60_10_Gap.txt', 'VFR100_20_4_Gap.txt', 'VFR40_20_8_Gap.txt', 'VFR300_20_8_Gap.txt', 'VFR60_20_1_Gap.txt', 'VFR40_5_4_Gap.txt', 'VFR600_40_10_Gap.txt', 'VFR60_15_10_Gap.txt', 'VFR100_20_6_Gap.txt', 'VFR400_40_2_Gap.txt', 'VFR30_5_9_Gap.txt', 'VFR60_20_3_Gap.txt', 'VFR500_40_5_Gap.txt', 'VFR200_40_9_Gap.txt', 'VFR400_40_6_Gap.txt', 'VFR300_20_9_Gap.txt', 'VFR400_20_4_Gap.txt', 'VFR600_20_2_Gap.txt', 'VFR40_5_7_Gap.txt', 'VFR30_15_4_Gap.txt', 'VFR40_10_1_Gap.txt', 'VFR300_40_3_Gap.txt', 'VFR10_15_3_Gap.txt', 'VFR800_20_7_Gap.txt', 'VFR500_20_4_Gap.txt', 'VFR300_60_4_Gap.txt', 'VFR40_15_10_Gap.txt', 'VFR20_10_5_Gap.txt', 'VFR20_20_2_Gap.txt', 'VFR100_40_4_Gap.txt', 'VFR60_20_4_Gap.txt', 'VFR500_40_10_Gap.txt', 'VFR200_60_4_Gap.txt', 'VFR10_5_10_Gap.txt', 'VFR50_10_6_Gap.txt', 'VFR30_15_10_Gap.txt', 'VFR200_20_9_Gap.txt', 'VFR400_60_1_Gap.txt', 'VFR400_40_4_Gap.txt', 'VFR200_60_3_Gap.txt', 'VFR10_15_7_Gap.txt', 'VFR600_20_7_Gap.txt', 'VFR400_20_8_Gap.txt', 'VFR40_15_9_Gap.txt', 'VFR700_40_3_Gap.txt', 'VFR10_20_3_Gap.txt', 'VFR30_5_7_Gap.txt', 'VFR600_20_10_Gap.txt', 'VFR30_20_9_Gap.txt', 'VFR40_5_8_Gap.txt', 'VFR700_60_3_Gap.txt', 'VFR800_40_1_Gap.txt', 'VFR800_60_6_Gap.txt', 'VFR100_40_1_Gap.txt', 'VFR60_10_9_Gap.txt', 'VFR20_15_4_Gap.txt', 'VFR40_10_8_Gap.txt', 'VFR10_10_3_Gap.txt', 'VFR50_15_9_Gap.txt', 'VFR600_60_1_Gap.txt', 'VFR300_60_8_Gap.txt', 'VFR30_20_4_Gap.txt', 'VFR60_15_4_Gap.txt', 'VFR600_40_4_Gap.txt', 'VFR300_20_5_Gap.txt', 'VFR300_60_2_Gap.txt', 'VFR100_60_6_Gap.txt', 'VFR50_20_1_Gap.txt', 'VFR60_20_10_Gap.txt', 'VFR60_5_2_Gap.txt', 'VFR30_5_5_Gap.txt', 'VFR20_10_7_Gap.txt', 'VFR300_60_9_Gap.txt', 'VFR40_5_1_Gap.txt', 'VFR40_20_10_Gap.txt', 'VFR20_20_1_Gap.txt', 'VFR500_60_9_Gap.txt', 'VFR500_60_5_Gap.txt', 'VFR100_40_8_Gap.txt', 'VFR500_40_9_Gap.txt', 'VFR100_60_8_Gap.txt', 'VFR60_20_6_Gap.txt', 'VFR700_60_9_Gap.txt', 'VFR600_60_6_Gap.txt', 'VFR200_20_6_Gap.txt', 'VFR30_10_1_Gap.txt', 'VFR40_10_2_Gap.txt', 'VFR700_20_3_Gap.txt', 'VFR800_20_9_Gap.txt', 'VFR50_20_7_Gap.txt', 'VFR30_15_5_Gap.txt', 'VFR100_20_10_Gap.txt', 'VFR40_15_7_Gap.txt', 'VFR30_20_3_Gap.txt', 'VFR200_60_9_Gap.txt', 'VFR50_15_8_Gap.txt', 'VFR700_60_2_Gap.txt', 'VFR600_60_2_Gap.txt', 'VFR500_20_3_Gap.txt', 'VFR30_20_8_Gap.txt', 'VFR100_40_7_Gap.txt', 'VFR100_40_6_Gap.txt', 'VFR400_20_9_Gap.txt', 'VFR30_15_7_Gap.txt', 'VFR50_10_8_Gap.txt', 'VFR200_60_8_Gap.txt', 'VFR800_60_3_Gap.txt', 'VFR400_60_8_Gap.txt', 'VFR800_40_9_Gap.txt', 'VFR300_60_3_Gap.txt', 'VFR60_5_4_Gap.txt', 'VFR40_10_6_Gap.txt', 'VFR10_15_5_Gap.txt', 'VFR500_60_2_Gap.txt', 'VFR400_40_7_Gap.txt', 'VFR30_10_3_Gap.txt', 'VFR60_20_9_Gap.txt', 'VFR50_5_5_Gap.txt', 'VFR400_60_7_Gap.txt', 'VFR200_20_1_Gap.txt', 'VFR700_60_4_Gap.txt', 'VFR60_15_7_Gap.txt', 'VFR10_20_8_Gap.txt', 'VFR10_20_7_Gap.txt', 'VFR500_40_7_Gap.txt', 'VFR60_15_6_Gap.txt', 'VFR50_10_10_Gap.txt', 'VFR50_5_8_Gap.txt', 'VFR50_15_1_Gap.txt', 'VFR60_5_8_Gap.txt', 'VFR50_10_1_Gap.txt', 'VFR20_5_5_Gap.txt', 'VFR50_20_8_Gap.txt', 'VFR30_10_5_Gap.txt', 'VFR500_40_2_Gap.txt', 'VFR200_40_8_Gap.txt', 'VFR30_20_10_Gap.txt', 'VFR700_40_5_Gap.txt', 'VFR50_15_6_Gap.txt', 'VFR100_40_10_Gap.txt', 'VFR10_5_2_Gap.txt', 'VFR700_40_7_Gap.txt', 'VFR40_10_3_Gap.txt', 'VFR20_15_1_Gap.txt', 'VFR700_60_5_Gap.txt', 'VFR10_15_8_Gap.txt', 'VFR20_15_5_Gap.txt', 'VFR20_15_9_Gap.txt', 'VFR400_20_5_Gap.txt', 'VFR40_5_6_Gap.txt', 'VFR700_40_2_Gap.txt', 'VFR800_60_7_Gap.txt', 'VFR40_15_1_Gap.txt', 'VFR700_60_8_Gap.txt', 'VFR50_10_2_Gap.txt', 'VFR300_20_1_Gap.txt', 'VFR800_60_9_Gap.txt', 'VFR20_10_10_Gap.txt', 'VFR500_60_8_Gap.txt', 'VFR400_60_2_Gap.txt', 'VFR700_20_6_Gap.txt', 'VFR30_15_3_Gap.txt', 'VFR100_20_1_Gap.txt', 'VFR40_10_7_Gap.txt', 'VFR10_15_1_Gap.txt', 'VFR50_20_6_Gap.txt', 'VFR700_60_1_Gap.txt', 'VFR800_20_10_Gap.txt', 'VFR20_5_4_Gap.txt', 'VFR30_15_2_Gap.txt', 'VFR300_20_4_Gap.txt', 'VFR30_5_4_Gap.txt', 'VFR600_60_5_Gap.txt', 'VFR10_10_10_Gap.txt', 'LICENSE.txt', 'VFR100_60_3_Gap.txt', 'VFR600_20_4_Gap.txt', 'VFR500_60_6_Gap.txt', 'VFR700_40_1_Gap.txt', 'VFR400_20_1_Gap.txt', 'VFR800_60_1_Gap.txt', 'VFR10_10_6_Gap.txt', 'VFR50_5_3_Gap.txt', 'VFR40_20_4_Gap.txt', 'VFR600_40_5_Gap.txt', 'VFR300_40_8_Gap.txt', 'VFR700_20_1_Gap.txt', 'VFR200_60_2_Gap.txt', 'VFR300_60_5_Gap.txt', 'VFR50_15_7_Gap.txt', 'VFR20_20_9_Gap.txt', 'VFR500_20_5_Gap.txt', 'VFR50_15_10_Gap.txt', 'VFR30_10_2_Gap.txt', 'VFR400_40_3_Gap.txt', 'VFR10_5_6_Gap.txt', 'VFR100_20_2_Gap.txt', 'VFR100_60_7_Gap.txt', 'VFR800_20_3_Gap.txt', 'VFR10_20_1_Gap.txt', 'VFR40_15_5_Gap.txt', 'VFR50_20_9_Gap.txt', 'VFR600_60_3_Gap.txt', 'VFR60_10_10_Gap.txt', 'VFR500_60_7_Gap.txt', 'VFR200_60_7_Gap.txt', 'VFR200_20_7_Gap.txt', 'VFR30_20_7_Gap.txt', 'VFR300_40_2_Gap.txt', 'VFR600_60_8_Gap.txt', 'VFR300_40_9_Gap.txt', 'VFR200_40_7_Gap.txt', 'VFR800_40_10_Gap.txt', 'VFR400_60_6_Gap.txt', 'VFR500_40_4_Gap.txt', 'VFR60_5_6_Gap.txt']\n"
          ]
        }
      ]
    },
    {
      "cell_type": "code",
      "source": [
        "def load_instance_manual(filename):\n",
        "    with open(filename, 'r') as file:\n",
        "        lines = file.readlines()\n",
        "\n",
        "    n, m = map(int, lines[0].split())\n",
        "    processing_times = []\n",
        "\n",
        "    for line in lines[1:m+1]:\n",
        "        processing_times.append(list(map(int, line.strip().split())))\n",
        "\n",
        "    # Transpose to get jobs as rows, machines as columns\n",
        "    processing_times = list(map(list, zip(*processing_times)))\n",
        "    return processing_times"
      ],
      "metadata": {
        "id": "DPmiWxQgvai1"
      },
      "execution_count": 6,
      "outputs": []
    },
    {
      "cell_type": "code",
      "source": [
        "filename = \"VFR100_20_1_Gap.txt\"  # Or ta001, etc.\n",
        "processing_times = load_instance_manual(filename)"
      ],
      "metadata": {
        "id": "VAyZKpNWwDVL"
      },
      "execution_count": 7,
      "outputs": []
    },
    {
      "cell_type": "code",
      "source": [
        "import numpy as np\n",
        "processing_times = load_instance_manual(\"VFR100_20_1_Gap.txt\")\n",
        "processing_times = np.array(processing_times, dtype=np.int32)\n",
        "\n",
        "from design_IG import IteratedGreedyAlgorithm\n",
        "\n",
        "ig = IteratedGreedyAlgorithm(processing_times)\n",
        "ig.execute(stopping_criterion='max_iteration', runtime_in_miliseconds=10000, max_iteration=100)\n",
        "print(\"Best makespan:\", ig.best_solution.makespan)"
      ],
      "metadata": {
        "id": "KcwzGcY-wFgx",
        "outputId": "fd454d81-46f5-4146-ee38-74a15ca9b873",
        "colab": {
          "base_uri": "https://localhost:8080/"
        }
      },
      "execution_count": 10,
      "outputs": [
        {
          "output_type": "stream",
          "name": "stdout",
          "text": [
            "Best makespan: 2426\n"
          ]
        }
      ]
    }
  ],
  "metadata": {
    "colab": {
      "name": "Welkom bij Colab",
      "provenance": [],
      "include_colab_link": true
    },
    "kernelspec": {
      "display_name": "Python 3",
      "name": "python3"
    }
  },
  "nbformat": 4,
  "nbformat_minor": 0
}